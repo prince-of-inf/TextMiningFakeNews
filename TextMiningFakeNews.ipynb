{
 "cells": [
  {
   "cell_type": "markdown",
   "id": "0e729ea0-401f-4244-b3f0-3e73346d48f6",
   "metadata": {},
   "source": [
    "# Fake News Detection in R\n",
    "### using lexical data and text complexity"
   ]
  },
  {
   "cell_type": "markdown",
   "id": "76766bde-c305-440a-bf64-6d34b562b60a",
   "metadata": {},
   "source": [
    "# Import libraries"
   ]
  },
  {
   "cell_type": "code",
   "execution_count": 4,
   "id": "d7ebc701",
   "metadata": {
    "ExecuteTime": {
     "end_time": "2023-01-22T20:18:22.791433Z",
     "start_time": "2023-01-22T20:18:22.742Z"
    },
    "scrolled": true
   },
   "outputs": [],
   "source": [
    "library(tidyverse)\n",
    "library(magrittr)\n",
    "library(quanteda)\n",
    "library(tidytext)\n",
    "library(quanteda.textstats)\n",
    "library(caret)\n",
    "library(e1071)\n",
    "library(Boruta) # random forest feature selection\n",
    "# install.packages('quanteda.textstats')"
   ]
  },
  {
   "cell_type": "markdown",
   "id": "e560544c-a589-4972-a22c-a0bdd1ce4fc7",
   "metadata": {},
   "source": [
    "# Load data and Preprocessing"
   ]
  },
  {
   "cell_type": "code",
   "execution_count": 5,
   "id": "d2a67205-3872-438a-8507-39eec631d4b1",
   "metadata": {},
   "outputs": [
    {
     "data": {
      "text/plain": [
       "       X               id           title              author         \n",
       " Min.   :    2   Min.   :    1   Length:1951        Length:1951       \n",
       " 1st Qu.: 5241   1st Qu.: 5240   Class :character   Class :character  \n",
       " Median :10335   Median :10334   Mode  :character   Mode  :character  \n",
       " Mean   :10379   Mean   :10378                                        \n",
       " 3rd Qu.:15514   3rd Qu.:15512                                        \n",
       " Max.   :20800   Max.   :20799                                        \n",
       "     text               label       \n",
       " Length:1951        Min.   :0.0000  \n",
       " Class :character   1st Qu.:0.0000  \n",
       " Mode  :character   Median :1.0000  \n",
       "                    Mean   :0.5023  \n",
       "                    3rd Qu.:1.0000  \n",
       "                    Max.   :1.0000  "
      ]
     },
     "metadata": {},
     "output_type": "display_data"
    }
   ],
   "source": [
    "df <- readRDS(file=\"data.rds\")\n",
    "summary(df)"
   ]
  },
  {
   "cell_type": "code",
   "execution_count": 4,
   "id": "c05a269f",
   "metadata": {
    "ExecuteTime": {
     "end_time": "2023-01-22T20:17:05.311517Z",
     "start_time": "2023-01-22T20:17:05.201Z"
    }
   },
   "outputs": [],
   "source": [
    "df.corp <- corpus(df) # create corpus"
   ]
  },
  {
   "cell_type": "code",
   "execution_count": 5,
   "id": "b6a2d371",
   "metadata": {
    "ExecuteTime": {
     "end_time": "2023-01-22T20:17:43.289635Z",
     "start_time": "2023-01-22T20:17:39.537Z"
    }
   },
   "outputs": [
    {
     "data": {
      "text/plain": [
       "Document-feature matrix of: 1,951 documents, 42,649 features (99.39% sparse) and 5 docvars.\n",
       "       features\n",
       "docs    0 comment video upload 2013 call marin vs thug near\n",
       "  text1 1       1     1      1    1    1     2  1    3    1\n",
       "  text2 0       0     0      0    0    1     0  0    0    0\n",
       "  text3 0       0     0      0    0    0     0  0    0    2\n",
       "  text4 1       1     0      0    0    0     0  0    0    0\n",
       "  text5 0       0     1      0    0    0     0  0    0    4\n",
       "  text6 0       0     0      0    0    0     0  0    0    0\n",
       "[ reached max_ndoc ... 1,945 more documents, reached max_nfeat ... 42,639 more features ]"
      ]
     },
     "metadata": {},
     "output_type": "display_data"
    }
   ],
   "source": [
    "# document-feature matrix\n",
    "df.mat = df.corp %>% \n",
    "          tokens(remove_punct = T) %>% \n",
    "          dfm %>% dfm_remove(stopwords(\"english\")) %>% \n",
    "          dfm_wordstem()\n",
    "df.mat"
   ]
  },
  {
   "cell_type": "code",
   "execution_count": 6,
   "id": "9c77cc87",
   "metadata": {
    "ExecuteTime": {
     "end_time": "2023-01-22T20:18:08.468281Z",
     "start_time": "2023-01-22T20:17:58.383Z"
    },
    "scrolled": true
   },
   "outputs": [],
   "source": [
    "# calculate FOG's readability - ratio of sentences to words and number of complex words\n",
    "fog = df.corp %>%\n",
    "    textstat_readability(measure = \"FOG\") \n",
    "\n",
    "# lexical diversity Herdan's C = logV/logN, and TTR - Type-Token Ratio = V/M (V-tokens, M-text length)\n",
    "df.lex = df.mat %>%\n",
    "    textstat_lexdiv(measure = c(\"TTR\", \"C\")) \n",
    "\n"
   ]
  },
  {
   "cell_type": "code",
   "execution_count": 7,
   "id": "d0c99394",
   "metadata": {
    "ExecuteTime": {
     "end_time": "2023-01-22T20:19:00.448672Z",
     "start_time": "2023-01-22T20:18:55.830Z"
    }
   },
   "outputs": [
    {
     "name": "stderr",
     "output_type": "stream",
     "text": [
      "Warning message:\n",
      "“cache argument is not used.”\n",
      "\u001b[1m\u001b[22mJoining with `by = join_by(document)`\n",
      "\u001b[1m\u001b[22mJoining with `by = join_by(document)`\n"
     ]
    }
   ],
   "source": [
    "# calculate stats for each documnt: chars, words etc.\n",
    "df_attr = df.corp %>%\n",
    "    textstat_summary(., cache = TRUE)%>%\n",
    "    select(document,chars,sents,tokens,types,puncts,numbers)\n",
    "\n",
    "# add FOG, C, TTR\n",
    "df_attr = df_attr %>% \n",
    "  left_join(fog) %>% \n",
    "  left_join(df.lex)%>% \n",
    "  select(-c(document))"
   ]
  },
  {
   "cell_type": "code",
   "execution_count": 10,
   "id": "642928e6",
   "metadata": {
    "ExecuteTime": {
     "end_time": "2023-01-22T20:19:21.026038Z",
     "start_time": "2023-01-22T20:19:20.988Z"
    }
   },
   "outputs": [],
   "source": [
    "# classes = fake news/true news\n",
    "class = as.factor(df$label)\n",
    "data <- cbind(df_attr, class.out = class)\n",
    "data = na.omit(data) # remove nans"
   ]
  },
  {
   "cell_type": "code",
   "execution_count": 16,
   "id": "9fce63c4-2987-4f1f-99d6-4e92d112a81a",
   "metadata": {},
   "outputs": [
    {
     "data": {
      "text/html": [
       "<table class=\"dataframe\">\n",
       "<caption>A data.frame: 6 × 10</caption>\n",
       "<thead>\n",
       "\t<tr><th></th><th scope=col>chars</th><th scope=col>sents</th><th scope=col>tokens</th><th scope=col>types</th><th scope=col>puncts</th><th scope=col>numbers</th><th scope=col>FOG</th><th scope=col>TTR</th><th scope=col>C</th><th scope=col>class.out</th></tr>\n",
       "\t<tr><th></th><th scope=col>&lt;int&gt;</th><th scope=col>&lt;int&gt;</th><th scope=col>&lt;int&gt;</th><th scope=col>&lt;int&gt;</th><th scope=col>&lt;int&gt;</th><th scope=col>&lt;int&gt;</th><th scope=col>&lt;dbl&gt;</th><th scope=col>&lt;dbl&gt;</th><th scope=col>&lt;dbl&gt;</th><th scope=col>&lt;fct&gt;</th></tr>\n",
       "</thead>\n",
       "<tbody>\n",
       "\t<tr><th scope=row>1</th><td> 422</td><td> 5</td><td>  86</td><td> 68</td><td> 13</td><td> 2</td><td>10.24432</td><td>0.9069767</td><td>0.9740406</td><td>1</td></tr>\n",
       "\t<tr><th scope=row>2</th><td>2522</td><td>14</td><td> 485</td><td>230</td><td> 66</td><td> 1</td><td>18.65401</td><td>0.6530612</td><td>0.9225478</td><td>0</td></tr>\n",
       "\t<tr><th scope=row>3</th><td>7420</td><td>55</td><td>1430</td><td>574</td><td>175</td><td>22</td><td>14.41811</td><td>0.6214689</td><td>0.9275164</td><td>0</td></tr>\n",
       "\t<tr><th scope=row>4</th><td>1803</td><td>11</td><td> 355</td><td>197</td><td> 41</td><td> 2</td><td>17.27805</td><td>0.7556818</td><td>0.9458204</td><td>1</td></tr>\n",
       "\t<tr><th scope=row>5</th><td>3093</td><td>21</td><td> 585</td><td>275</td><td> 61</td><td> 6</td><td>16.46950</td><td>0.6688963</td><td>0.9294570</td><td>0</td></tr>\n",
       "\t<tr><th scope=row>6</th><td> 407</td><td> 3</td><td>  73</td><td> 60</td><td> 15</td><td> 6</td><td>18.07816</td><td>0.8604651</td><td>0.9600441</td><td>1</td></tr>\n",
       "</tbody>\n",
       "</table>\n"
      ],
      "text/latex": [
       "A data.frame: 6 × 10\n",
       "\\begin{tabular}{r|llllllllll}\n",
       "  & chars & sents & tokens & types & puncts & numbers & FOG & TTR & C & class.out\\\\\n",
       "  & <int> & <int> & <int> & <int> & <int> & <int> & <dbl> & <dbl> & <dbl> & <fct>\\\\\n",
       "\\hline\n",
       "\t1 &  422 &  5 &   86 &  68 &  13 &  2 & 10.24432 & 0.9069767 & 0.9740406 & 1\\\\\n",
       "\t2 & 2522 & 14 &  485 & 230 &  66 &  1 & 18.65401 & 0.6530612 & 0.9225478 & 0\\\\\n",
       "\t3 & 7420 & 55 & 1430 & 574 & 175 & 22 & 14.41811 & 0.6214689 & 0.9275164 & 0\\\\\n",
       "\t4 & 1803 & 11 &  355 & 197 &  41 &  2 & 17.27805 & 0.7556818 & 0.9458204 & 1\\\\\n",
       "\t5 & 3093 & 21 &  585 & 275 &  61 &  6 & 16.46950 & 0.6688963 & 0.9294570 & 0\\\\\n",
       "\t6 &  407 &  3 &   73 &  60 &  15 &  6 & 18.07816 & 0.8604651 & 0.9600441 & 1\\\\\n",
       "\\end{tabular}\n"
      ],
      "text/markdown": [
       "\n",
       "A data.frame: 6 × 10\n",
       "\n",
       "| <!--/--> | chars &lt;int&gt; | sents &lt;int&gt; | tokens &lt;int&gt; | types &lt;int&gt; | puncts &lt;int&gt; | numbers &lt;int&gt; | FOG &lt;dbl&gt; | TTR &lt;dbl&gt; | C &lt;dbl&gt; | class.out &lt;fct&gt; |\n",
       "|---|---|---|---|---|---|---|---|---|---|---|\n",
       "| 1 |  422 |  5 |   86 |  68 |  13 |  2 | 10.24432 | 0.9069767 | 0.9740406 | 1 |\n",
       "| 2 | 2522 | 14 |  485 | 230 |  66 |  1 | 18.65401 | 0.6530612 | 0.9225478 | 0 |\n",
       "| 3 | 7420 | 55 | 1430 | 574 | 175 | 22 | 14.41811 | 0.6214689 | 0.9275164 | 0 |\n",
       "| 4 | 1803 | 11 |  355 | 197 |  41 |  2 | 17.27805 | 0.7556818 | 0.9458204 | 1 |\n",
       "| 5 | 3093 | 21 |  585 | 275 |  61 |  6 | 16.46950 | 0.6688963 | 0.9294570 | 0 |\n",
       "| 6 |  407 |  3 |   73 |  60 |  15 |  6 | 18.07816 | 0.8604651 | 0.9600441 | 1 |\n",
       "\n"
      ],
      "text/plain": [
       "  chars sents tokens types puncts numbers FOG      TTR       C        \n",
       "1  422   5      86    68    13     2      10.24432 0.9069767 0.9740406\n",
       "2 2522  14     485   230    66     1      18.65401 0.6530612 0.9225478\n",
       "3 7420  55    1430   574   175    22      14.41811 0.6214689 0.9275164\n",
       "4 1803  11     355   197    41     2      17.27805 0.7556818 0.9458204\n",
       "5 3093  21     585   275    61     6      16.46950 0.6688963 0.9294570\n",
       "6  407   3      73    60    15     6      18.07816 0.8604651 0.9600441\n",
       "  class.out\n",
       "1 1        \n",
       "2 0        \n",
       "3 0        \n",
       "4 1        \n",
       "5 0        \n",
       "6 1        "
      ]
     },
     "metadata": {},
     "output_type": "display_data"
    }
   ],
   "source": [
    "head(data)"
   ]
  },
  {
   "cell_type": "code",
   "execution_count": 18,
   "id": "3660d456-5a13-4ad7-97ae-8a49c08c6c58",
   "metadata": {},
   "outputs": [],
   "source": [
    "# split data to train and test\n",
    "input <- createDataPartition(data$class, p = 0.8, list = F)\n",
    "\n",
    "data.train <- data[input,]\n",
    "data.test <- data[-input,]"
   ]
  },
  {
   "cell_type": "markdown",
   "id": "f00985f9-e16e-446c-922f-3e701f8cf85e",
   "metadata": {},
   "source": [
    "# FIT"
   ]
  },
  {
   "cell_type": "code",
   "execution_count": 23,
   "id": "729b526c",
   "metadata": {
    "ExecuteTime": {
     "end_time": "2023-01-22T20:21:57.857784Z",
     "start_time": "2023-01-22T20:21:55.772Z"
    }
   },
   "outputs": [
    {
     "data": {
      "text/plain": [
       "Support Vector Machines with Linear Kernel \n",
       "\n",
       "1548 samples\n",
       "   9 predictor\n",
       "   2 classes: '0', '1' \n",
       "\n",
       "No pre-processing\n",
       "Resampling: Cross-Validated (10 fold) \n",
       "Summary of sample sizes: 1393, 1393, 1394, 1393, 1394, 1393, ... \n",
       "Resampling results:\n",
       "\n",
       "  Accuracy   Kappa    \n",
       "  0.6814766  0.3630787\n",
       "\n",
       "Tuning parameter 'C' was held constant at a value of 1"
      ]
     },
     "metadata": {},
     "output_type": "display_data"
    }
   ],
   "source": [
    "# model:SVM linear kernel, 10-fold crossvalidation\n",
    "fit <- trainControl(method = \"cv\", number = 10)\n",
    "model1 <- train(class.out ~ ., data = data.train, method = \"svmLinear\", trControl = fit)\n",
    "model1"
   ]
  },
  {
   "cell_type": "code",
   "execution_count": 24,
   "id": "91da9ccf",
   "metadata": {
    "ExecuteTime": {
     "end_time": "2023-01-22T20:21:38.236443Z",
     "start_time": "2023-01-22T20:21:21.263Z"
    }
   },
   "outputs": [
    {
     "data": {
      "text/plain": [
       "Support Vector Machines with Radial Basis Function Kernel \n",
       "\n",
       "1548 samples\n",
       "   9 predictor\n",
       "   2 classes: '0', '1' \n",
       "\n",
       "No pre-processing\n",
       "Resampling: Cross-Validated (10 fold) \n",
       "Summary of sample sizes: 1393, 1392, 1394, 1393, 1394, 1393, ... \n",
       "Resampling results across tuning parameters:\n",
       "\n",
       "  C     Accuracy   Kappa    \n",
       "  0.25  0.6672328  0.3343057\n",
       "  0.50  0.6788625  0.3575518\n",
       "  1.00  0.6878949  0.3757155\n",
       "\n",
       "Tuning parameter 'sigma' was held constant at a value of 0.3210158\n",
       "Accuracy was used to select the optimal model using the largest value.\n",
       "The final values used for the model were sigma = 0.3210158 and C = 1."
      ]
     },
     "metadata": {},
     "output_type": "display_data"
    }
   ],
   "source": [
    "# model:SVM radial kernel, 10-fold crossvalidation\n",
    "fit <- trainControl(method = \"cv\", number = 10)\n",
    "model2 <- train(class.out ~ ., data = data.train, method = \"svmRadial\", trControl = fit)\n",
    "model2"
   ]
  },
  {
   "cell_type": "markdown",
   "id": "2a7d332c-1dfe-4f0a-aae6-c51aa50f3bc0",
   "metadata": {},
   "source": [
    "# Predict"
   ]
  },
  {
   "cell_type": "code",
   "execution_count": 36,
   "id": "57e6a84b-1f87-4907-bfd3-7e887dfaa47a",
   "metadata": {},
   "outputs": [
    {
     "name": "stdout",
     "output_type": "stream",
     "text": [
      "   prediction\n",
      "      0   1\n",
      "  0 133  61\n",
      "  1  65 127\n",
      "[1] \"\"\n",
      "[1] \"Test set Accuracy\"\n",
      "[1] 0.6735751\n"
     ]
    }
   ],
   "source": [
    "# predict using model2\n",
    "prediction = predict(model2, data.test)\n",
    "\n",
    "# confusion matrix\n",
    "CM = table(data.test$class.out, prediction)\n",
    "print(CM)\n",
    "print(\"\")\n",
    "print(\"Test set Accuracy\")\n",
    "print(sum(diag(CM)) / sum(CM))"
   ]
  },
  {
   "cell_type": "markdown",
   "id": "7f9d1cfb",
   "metadata": {},
   "source": [
    "### We have got accuracy ~69% on crossvalidated set and ~67% on test set!\n",
    "The variance between sets is reasonable, and accuracy is decent given we used only lexical data without content of news' texts"
   ]
  },
  {
   "cell_type": "markdown",
   "id": "01b2a68a",
   "metadata": {},
   "source": [
    "# PCA - Principal Component Analysis\n",
    "### what gives fake news away?"
   ]
  },
  {
   "cell_type": "code",
   "execution_count": 37,
   "id": "94a3d033",
   "metadata": {
    "ExecuteTime": {
     "end_time": "2023-01-22T20:12:59.277595Z",
     "start_time": "2023-01-22T20:12:59.235Z"
    }
   },
   "outputs": [
    {
     "data": {
      "text/plain": [
       "Call:\n",
       "princomp(formula = ~., data = df_attr, cor = T)\n",
       "\n",
       "Standard deviations:\n",
       "    Comp.1     Comp.2     Comp.3     Comp.4     Comp.5     Comp.6     Comp.7 \n",
       "2.45039878 1.15694350 0.95202723 0.75141066 0.28322307 0.23619755 0.18809559 \n",
       "    Comp.8     Comp.9 \n",
       "0.11646543 0.03324154 \n",
       "\n",
       " 9  variables and  1934 observations."
      ]
     },
     "metadata": {},
     "output_type": "display_data"
    }
   ],
   "source": [
    "# perform PCA\n",
    "test.pc <- princomp(~., cor=T, data=df_attr)\n",
    "test.pc"
   ]
  },
  {
   "cell_type": "code",
   "execution_count": 52,
   "id": "055924bc-5191-4d45-ac76-f51121c114d7",
   "metadata": {},
   "outputs": [
    {
     "data": {
      "text/html": [
       "<style>\n",
       ".dl-inline {width: auto; margin:0; padding: 0}\n",
       ".dl-inline>dt, .dl-inline>dd {float: none; width: auto; display: inline-block}\n",
       ".dl-inline>dt::after {content: \":\\0020\"; padding-right: .5ex}\n",
       ".dl-inline>dt:not(:first-of-type) {padding-left: .5ex}\n",
       "</style><dl class=dl-inline><dt>Comp.1</dt><dd>0.397275850643192</dd><dt>Comp.2</dt><dd>0.187571801849551</dd><dt>Comp.3</dt><dd>0.154349337092924</dd><dt>Comp.4</dt><dd>0.121823971285238</dd><dt>Comp.5</dt><dd>0.0459181122936337</dd><dt>Comp.6</dt><dd>0.0382940040345606</dd><dt>Comp.7</dt><dd>0.0304953779071168</dd><dt>Comp.8</dt><dd>0.0188821928476824</dd><dt>Comp.9</dt><dd>0.00538935204610165</dd></dl>\n"
      ],
      "text/latex": [
       "\\begin{description*}\n",
       "\\item[Comp.1] 0.397275850643192\n",
       "\\item[Comp.2] 0.187571801849551\n",
       "\\item[Comp.3] 0.154349337092924\n",
       "\\item[Comp.4] 0.121823971285238\n",
       "\\item[Comp.5] 0.0459181122936337\n",
       "\\item[Comp.6] 0.0382940040345606\n",
       "\\item[Comp.7] 0.0304953779071168\n",
       "\\item[Comp.8] 0.0188821928476824\n",
       "\\item[Comp.9] 0.00538935204610165\n",
       "\\end{description*}\n"
      ],
      "text/markdown": [
       "Comp.1\n",
       ":   0.397275850643192Comp.2\n",
       ":   0.187571801849551Comp.3\n",
       ":   0.154349337092924Comp.4\n",
       ":   0.121823971285238Comp.5\n",
       ":   0.0459181122936337Comp.6\n",
       ":   0.0382940040345606Comp.7\n",
       ":   0.0304953779071168Comp.8\n",
       ":   0.0188821928476824Comp.9\n",
       ":   0.00538935204610165\n",
       "\n"
      ],
      "text/plain": [
       "     Comp.1      Comp.2      Comp.3      Comp.4      Comp.5      Comp.6 \n",
       "0.397275851 0.187571802 0.154349337 0.121823971 0.045918112 0.038294004 \n",
       "     Comp.7      Comp.8      Comp.9 \n",
       "0.030495378 0.018882193 0.005389352 "
      ]
     },
     "metadata": {},
     "output_type": "display_data"
    }
   ],
   "source": [
    "test.pc$sdev/sum(test.pc$sdev)"
   ]
  },
  {
   "cell_type": "code",
   "execution_count": 66,
   "id": "4fc63746-7db0-4c6a-9b03-2a63e8a049d2",
   "metadata": {},
   "outputs": [
    {
     "data": {
      "text/html": [
       "<table class=\"dataframe\">\n",
       "<caption>A data.frame: 9 × 1</caption>\n",
       "<thead>\n",
       "\t<tr><th></th><th scope=col>Component.relative.variance</th></tr>\n",
       "\t<tr><th></th><th scope=col>&lt;dbl&gt;</th></tr>\n",
       "</thead>\n",
       "<tbody>\n",
       "\t<tr><th scope=row>Comp.1</th><td>0.397275851</td></tr>\n",
       "\t<tr><th scope=row>Comp.2</th><td>0.187571802</td></tr>\n",
       "\t<tr><th scope=row>Comp.3</th><td>0.154349337</td></tr>\n",
       "\t<tr><th scope=row>Comp.4</th><td>0.121823971</td></tr>\n",
       "\t<tr><th scope=row>Comp.5</th><td>0.045918112</td></tr>\n",
       "\t<tr><th scope=row>Comp.6</th><td>0.038294004</td></tr>\n",
       "\t<tr><th scope=row>Comp.7</th><td>0.030495378</td></tr>\n",
       "\t<tr><th scope=row>Comp.8</th><td>0.018882193</td></tr>\n",
       "\t<tr><th scope=row>Comp.9</th><td>0.005389352</td></tr>\n",
       "</tbody>\n",
       "</table>\n"
      ],
      "text/latex": [
       "A data.frame: 9 × 1\n",
       "\\begin{tabular}{r|l}\n",
       "  & Component.relative.variance\\\\\n",
       "  & <dbl>\\\\\n",
       "\\hline\n",
       "\tComp.1 & 0.397275851\\\\\n",
       "\tComp.2 & 0.187571802\\\\\n",
       "\tComp.3 & 0.154349337\\\\\n",
       "\tComp.4 & 0.121823971\\\\\n",
       "\tComp.5 & 0.045918112\\\\\n",
       "\tComp.6 & 0.038294004\\\\\n",
       "\tComp.7 & 0.030495378\\\\\n",
       "\tComp.8 & 0.018882193\\\\\n",
       "\tComp.9 & 0.005389352\\\\\n",
       "\\end{tabular}\n"
      ],
      "text/markdown": [
       "\n",
       "A data.frame: 9 × 1\n",
       "\n",
       "| <!--/--> | Component.relative.variance &lt;dbl&gt; |\n",
       "|---|---|\n",
       "| Comp.1 | 0.397275851 |\n",
       "| Comp.2 | 0.187571802 |\n",
       "| Comp.3 | 0.154349337 |\n",
       "| Comp.4 | 0.121823971 |\n",
       "| Comp.5 | 0.045918112 |\n",
       "| Comp.6 | 0.038294004 |\n",
       "| Comp.7 | 0.030495378 |\n",
       "| Comp.8 | 0.018882193 |\n",
       "| Comp.9 | 0.005389352 |\n",
       "\n"
      ],
      "text/plain": [
       "       Component.relative.variance\n",
       "Comp.1 0.397275851                \n",
       "Comp.2 0.187571802                \n",
       "Comp.3 0.154349337                \n",
       "Comp.4 0.121823971                \n",
       "Comp.5 0.045918112                \n",
       "Comp.6 0.038294004                \n",
       "Comp.7 0.030495378                \n",
       "Comp.8 0.018882193                \n",
       "Comp.9 0.005389352                "
      ]
     },
     "metadata": {},
     "output_type": "display_data"
    }
   ],
   "source": [
    "data.frame(\"Component relative variance\"=c(test.pc$sdev/sum(test.pc$sdev))) "
   ]
  },
  {
   "cell_type": "code",
   "execution_count": 67,
   "id": "497bb398-4670-417c-af5b-9d9c33b80f0d",
   "metadata": {},
   "outputs": [
    {
     "data": {
      "text/html": [
       "<table class=\"dataframe\">\n",
       "<caption>A data.frame: 9 × 1</caption>\n",
       "<thead>\n",
       "\t<tr><th></th><th scope=col>Component.cumulated.variance</th></tr>\n",
       "\t<tr><th></th><th scope=col>&lt;dbl&gt;</th></tr>\n",
       "</thead>\n",
       "<tbody>\n",
       "\t<tr><th scope=row>Comp.1</th><td>0.3972759</td></tr>\n",
       "\t<tr><th scope=row>Comp.2</th><td>0.5848477</td></tr>\n",
       "\t<tr><th scope=row>Comp.3</th><td>0.7391970</td></tr>\n",
       "\t<tr><th scope=row>Comp.4</th><td>0.8610210</td></tr>\n",
       "\t<tr><th scope=row>Comp.5</th><td>0.9069391</td></tr>\n",
       "\t<tr><th scope=row>Comp.6</th><td>0.9452331</td></tr>\n",
       "\t<tr><th scope=row>Comp.7</th><td>0.9757285</td></tr>\n",
       "\t<tr><th scope=row>Comp.8</th><td>0.9946106</td></tr>\n",
       "\t<tr><th scope=row>Comp.9</th><td>1.0000000</td></tr>\n",
       "</tbody>\n",
       "</table>\n"
      ],
      "text/latex": [
       "A data.frame: 9 × 1\n",
       "\\begin{tabular}{r|l}\n",
       "  & Component.cumulated.variance\\\\\n",
       "  & <dbl>\\\\\n",
       "\\hline\n",
       "\tComp.1 & 0.3972759\\\\\n",
       "\tComp.2 & 0.5848477\\\\\n",
       "\tComp.3 & 0.7391970\\\\\n",
       "\tComp.4 & 0.8610210\\\\\n",
       "\tComp.5 & 0.9069391\\\\\n",
       "\tComp.6 & 0.9452331\\\\\n",
       "\tComp.7 & 0.9757285\\\\\n",
       "\tComp.8 & 0.9946106\\\\\n",
       "\tComp.9 & 1.0000000\\\\\n",
       "\\end{tabular}\n"
      ],
      "text/markdown": [
       "\n",
       "A data.frame: 9 × 1\n",
       "\n",
       "| <!--/--> | Component.cumulated.variance &lt;dbl&gt; |\n",
       "|---|---|\n",
       "| Comp.1 | 0.3972759 |\n",
       "| Comp.2 | 0.5848477 |\n",
       "| Comp.3 | 0.7391970 |\n",
       "| Comp.4 | 0.8610210 |\n",
       "| Comp.5 | 0.9069391 |\n",
       "| Comp.6 | 0.9452331 |\n",
       "| Comp.7 | 0.9757285 |\n",
       "| Comp.8 | 0.9946106 |\n",
       "| Comp.9 | 1.0000000 |\n",
       "\n"
      ],
      "text/plain": [
       "       Component.cumulated.variance\n",
       "Comp.1 0.3972759                   \n",
       "Comp.2 0.5848477                   \n",
       "Comp.3 0.7391970                   \n",
       "Comp.4 0.8610210                   \n",
       "Comp.5 0.9069391                   \n",
       "Comp.6 0.9452331                   \n",
       "Comp.7 0.9757285                   \n",
       "Comp.8 0.9946106                   \n",
       "Comp.9 1.0000000                   "
      ]
     },
     "metadata": {},
     "output_type": "display_data"
    }
   ],
   "source": [
    "data.frame(\"Component cumulated variance\"= cumsum(test.pc$sdev)/sum(test.pc$sdev))"
   ]
  },
  {
   "cell_type": "code",
   "execution_count": 68,
   "id": "b375ca7e",
   "metadata": {
    "ExecuteTime": {
     "end_time": "2023-01-22T20:13:37.472748Z",
     "start_time": "2023-01-22T20:13:37.434Z"
    }
   },
   "outputs": [
    {
     "data": {
      "text/plain": [
       "\n",
       "Loadings:\n",
       "        Comp.1 Comp.2 Comp.3 Comp.4 Comp.5 Comp.6 Comp.7 Comp.8 Comp.9\n",
       "chars    0.398                0.171         0.140  0.526  0.287  0.640\n",
       "sents    0.383  0.210         0.151 -0.479  0.570 -0.463 -0.103       \n",
       "tokens   0.399  0.121         0.151                0.379  0.268 -0.760\n",
       "types    0.388  0.108         0.253  0.636        -0.137 -0.584       \n",
       "puncts   0.388  0.170               -0.378 -0.790 -0.183              \n",
       "numbers  0.281         0.238 -0.906  0.129  0.138                     \n",
       "FOG            -0.540  0.810  0.157 -0.127                            \n",
       "TTR     -0.314  0.482  0.297        -0.323         0.432 -0.536       \n",
       "C       -0.241  0.600  0.403  0.128  0.282        -0.344  0.454       \n",
       "\n",
       "               Comp.1 Comp.2 Comp.3 Comp.4 Comp.5 Comp.6 Comp.7 Comp.8 Comp.9\n",
       "SS loadings     1.000  1.000  1.000  1.000  1.000  1.000  1.000  1.000  1.000\n",
       "Proportion Var  0.111  0.111  0.111  0.111  0.111  0.111  0.111  0.111  0.111\n",
       "Cumulative Var  0.111  0.222  0.333  0.444  0.556  0.667  0.778  0.889  1.000"
      ]
     },
     "metadata": {},
     "output_type": "display_data"
    }
   ],
   "source": [
    "# features in components\n",
    "test.pc$loadings"
   ]
  },
  {
   "cell_type": "code",
   "execution_count": 97,
   "id": "f626b097-a031-4a32-a9d0-e6958e2af930",
   "metadata": {},
   "outputs": [
    {
     "name": "stderr",
     "output_type": "stream",
     "text": [
      "Warning message in TentativeRoughFix(boruta_output):\n",
      "“There are no Tentative attributes! Returning original object.”\n"
     ]
    },
    {
     "data": {
      "text/html": [
       "<table class=\"dataframe\">\n",
       "<caption>A data.frame: 6 × 2</caption>\n",
       "<thead>\n",
       "\t<tr><th></th><th scope=col>meanImp</th><th scope=col>decision</th></tr>\n",
       "\t<tr><th></th><th scope=col>&lt;dbl&gt;</th><th scope=col>&lt;fct&gt;</th></tr>\n",
       "</thead>\n",
       "<tbody>\n",
       "\t<tr><th scope=row>puncts</th><td>49.52594</td><td>Confirmed</td></tr>\n",
       "\t<tr><th scope=row>FOG</th><td>27.26615</td><td>Confirmed</td></tr>\n",
       "\t<tr><th scope=row>sents</th><td>24.54721</td><td>Confirmed</td></tr>\n",
       "\t<tr><th scope=row>tokens</th><td>22.17483</td><td>Confirmed</td></tr>\n",
       "\t<tr><th scope=row>types</th><td>19.40120</td><td>Confirmed</td></tr>\n",
       "\t<tr><th scope=row>chars</th><td>17.93328</td><td>Confirmed</td></tr>\n",
       "</tbody>\n",
       "</table>\n"
      ],
      "text/latex": [
       "A data.frame: 6 × 2\n",
       "\\begin{tabular}{r|ll}\n",
       "  & meanImp & decision\\\\\n",
       "  & <dbl> & <fct>\\\\\n",
       "\\hline\n",
       "\tpuncts & 49.52594 & Confirmed\\\\\n",
       "\tFOG & 27.26615 & Confirmed\\\\\n",
       "\tsents & 24.54721 & Confirmed\\\\\n",
       "\ttokens & 22.17483 & Confirmed\\\\\n",
       "\ttypes & 19.40120 & Confirmed\\\\\n",
       "\tchars & 17.93328 & Confirmed\\\\\n",
       "\\end{tabular}\n"
      ],
      "text/markdown": [
       "\n",
       "A data.frame: 6 × 2\n",
       "\n",
       "| <!--/--> | meanImp &lt;dbl&gt; | decision &lt;fct&gt; |\n",
       "|---|---|---|\n",
       "| puncts | 49.52594 | Confirmed |\n",
       "| FOG | 27.26615 | Confirmed |\n",
       "| sents | 24.54721 | Confirmed |\n",
       "| tokens | 22.17483 | Confirmed |\n",
       "| types | 19.40120 | Confirmed |\n",
       "| chars | 17.93328 | Confirmed |\n",
       "\n"
      ],
      "text/plain": [
       "       meanImp  decision \n",
       "puncts 49.52594 Confirmed\n",
       "FOG    27.26615 Confirmed\n",
       "sents  24.54721 Confirmed\n",
       "tokens 22.17483 Confirmed\n",
       "types  19.40120 Confirmed\n",
       "chars  17.93328 Confirmed"
      ]
     },
     "metadata": {},
     "output_type": "display_data"
    }
   ],
   "source": [
    "# Perform Boruta search\n",
    "boruta_output <- Boruta(class.out ~ ., data=data, doTrace=0)  \n",
    "# Do a tentative rough fix\n",
    "roughFixMod <- TentativeRoughFix(boruta_output)\n",
    "# Variable Importance Scores\n",
    "imps <- attStats(roughFixMod)\n",
    "imps2 = imps[imps$decision != 'Rejected', c('meanImp', 'decision')]\n",
    "head(imps2[order(-imps2$meanImp), ])  # descending sort"
   ]
  },
  {
   "cell_type": "code",
   "execution_count": 109,
   "id": "b4899bf0-35f2-44fb-ae39-6576baa28b31",
   "metadata": {},
   "outputs": [
    {
     "data": {
      "image/png": "[encoded data removed]",
      "text/plain": [
       "Plot with title “Variable Importance”"
      ]
     },
     "metadata": {
      "image/png": {
       "height": 420,
       "width": 420
      }
     },
     "output_type": "display_data"
    }
   ],
   "source": [
    "# Plot variable importance\n",
    "# cex = element size\n",
    "plot(boruta_output, cex.axis=1, cex.lab = 1.5, las=3, xlab=\"\", main=\"Variable Importance\")  "
   ]
  },
  {
   "cell_type": "markdown",
   "id": "1b2c26ad-8769-4698-b845-152a09884158",
   "metadata": {},
   "source": []
  }
 ],
 "metadata": {
  "kernelspec": {
   "display_name": "R",
   "language": "R",
   "name": "ir"
  },
  "language_info": {
   "codemirror_mode": "r",
   "file_extension": ".r",
   "mimetype": "text/x-r-source",
   "name": "R",
   "pygments_lexer": "r",
   "version": "4.2.2"
  },
  "varInspector": {
   "cols": {
    "lenName": 16,
    "lenType": 16,
    "lenVar": 40
   },
   "kernels_config": {
    "python": {
     "delete_cmd_postfix": "",
     "delete_cmd_prefix": "del ",
     "library": "var_list.py",
     "varRefreshCmd": "print(var_dic_list())"
    },
    "r": {
     "delete_cmd_postfix": ") ",
     "delete_cmd_prefix": "rm(",
     "library": "var_list.r",
     "varRefreshCmd": "cat(var_dic_list()) "
    }
   },
   "position": {
    "height": "254.85px",
    "left": "1541px",
    "right": "20px",
    "top": "128px",
    "width": "350px"
   },
   "types_to_exclude": [
    "module",
    "function",
    "builtin_function_or_method",
    "instance",
    "_Feature"
   ],
   "window_display": false
  }
 },
 "nbformat": 4,
 "nbformat_minor": 5
}
